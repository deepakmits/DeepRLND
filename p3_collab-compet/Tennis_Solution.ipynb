{
 "cells": [
  {
   "cell_type": "markdown",
   "metadata": {},
   "source": [
    "## Project 3 - Collab and Compete - Multi Agent Tennis environment"
   ]
  },
  {
   "cell_type": "code",
   "execution_count": 1,
   "metadata": {},
   "outputs": [],
   "source": [
    "#Imports\n",
    "from unityagents import UnityEnvironment\n",
    "import numpy as np\n",
    "import random\n",
    "import torch\n",
    "from collections import deque\n",
    "from datetime import datetime as dt\n",
    "import matplotlib.pyplot as plt\n",
    "from maddpg import Pair\n",
    "%matplotlib inline"
   ]
  },
  {
   "cell_type": "code",
   "execution_count": 2,
   "metadata": {},
   "outputs": [
    {
     "name": "stderr",
     "output_type": "stream",
     "text": [
      "INFO:unityagents:\n",
      "'Academy' started successfully!\n",
      "Unity Academy name: Academy\n",
      "        Number of Brains: 1\n",
      "        Number of External Brains : 1\n",
      "        Lesson number : 0\n",
      "        Reset Parameters :\n",
      "\t\t\n",
      "Unity brain name: TennisBrain\n",
      "        Number of Visual Observations (per agent): 0\n",
      "        Vector Observation space type: continuous\n",
      "        Vector Observation space size (per agent): 8\n",
      "        Number of stacked Vector Observation: 3\n",
      "        Vector Action space type: continuous\n",
      "        Vector Action space size (per agent): 2\n",
      "        Vector Action descriptions: , \n"
     ]
    }
   ],
   "source": [
    "#Loading environment\n",
    "env = UnityEnvironment(file_name='Tennis.app')"
   ]
  },
  {
   "cell_type": "code",
   "execution_count": 3,
   "metadata": {},
   "outputs": [],
   "source": [
    "#Reading\n",
    "brain_name = env.brain_names[0]\n",
    "brain = env.brains[brain_name]\n",
    "env_info = env.reset(train_mode=True)[brain_name]\n",
    "num_agents = len(env_info.agents)\n",
    "action_size = brain.vector_action_space_size\n",
    "state_size = env_info.vector_observations.shape[1]"
   ]
  },
  {
   "cell_type": "code",
   "execution_count": 4,
   "metadata": {},
   "outputs": [],
   "source": [
    "#Init Pair of Agents\n",
    "pair = Pair(num_agents=num_agents, state_size=state_size, action_size=action_size, random_seed=2)"
   ]
  },
  {
   "cell_type": "code",
   "execution_count": 5,
   "metadata": {},
   "outputs": [],
   "source": [
    "#DDPG from ddpg-pendulum\n",
    "def maddpg(n_episodes=5000, max_t=1000, print_every=100):\n",
    "    target_score = 0.5     #Desired score\n",
    "    scores_window = deque(maxlen=100)\n",
    "    scores = []\n",
    "    cont = True\n",
    "    for i_episode in range(1, n_episodes+1):\n",
    "        #resetting with train_mode true\n",
    "        env_info = env.reset(train_mode=True)[brain_name]\n",
    "        states = env_info.vector_observations\n",
    "        episode_scores = np.zeros(num_agents)\n",
    "        for t in range(max_t):\n",
    "            pair.reset_agents()\n",
    "            actions = pair.act(states)\n",
    "            \n",
    "            env_info = env.step(actions)[brain_name]\n",
    "            next_states = env_info.vector_observations\n",
    "            rewards = env_info.rewards\n",
    "            dones = env_info.local_done\n",
    "            \n",
    "            pair.step(states, actions, rewards, next_states, dones)\n",
    "            \n",
    "            states = next_states\n",
    "            episode_scores += np.array(rewards)\n",
    "            if np.any(dones):\n",
    "                break \n",
    "        \n",
    "        score = episode_scores.max()\n",
    "        scores_window.append(score)\n",
    "        scores.append(score)\n",
    "        \n",
    "        print('\\rEpisode {}\\tAverage Score: {:.2f}'.format(i_episode, np.mean(scores_window)), end=\"\")\n",
    "        if i_episode % 100 == 0:\n",
    "            print('\\rEpisode {}\\tAverage Score: {:.2f}'.format(i_episode, np.mean(scores_window)))\n",
    "            \n",
    "        if np.mean(scores_window)>=target_score and cont:\n",
    "            cont = False    \n",
    "            print('\\nEnvironment solved in {:d} episodes!\\tAverage Score: {:.2f}'.format(i_episode-100, np.mean(scores_window)))\n",
    "            torch.save(pair.checkpoint()[0], f'checkpoint_actor.pth')\n",
    "            torch.save(pair.checkpoint()[1], f'checkpoint_critic.pth')\n",
    "            \n",
    "    return scores"
   ]
  },
  {
   "cell_type": "code",
   "execution_count": 6,
   "metadata": {},
   "outputs": [
    {
     "name": "stdout",
     "output_type": "stream",
     "text": [
      "Episode 100\tAverage Score: 0.00\n",
      "Episode 200\tAverage Score: 0.00\n",
      "Episode 300\tAverage Score: 0.00\n",
      "Episode 400\tAverage Score: 0.01\n",
      "Episode 500\tAverage Score: 0.01\n",
      "Episode 600\tAverage Score: 0.00\n",
      "Episode 700\tAverage Score: 0.01\n",
      "Episode 800\tAverage Score: 0.03\n",
      "Episode 900\tAverage Score: 0.03\n",
      "Episode 1000\tAverage Score: 0.02\n",
      "Episode 1100\tAverage Score: 0.07\n",
      "Episode 1200\tAverage Score: 0.16\n",
      "Episode 1300\tAverage Score: 0.38\n",
      "Episode 1325\tAverage Score: 0.52\n",
      "Environment solved in 1225 episodes!\tAverage Score: 0.52\n",
      "Episode 1400\tAverage Score: 0.47\n",
      "Episode 1500\tAverage Score: 0.26\n",
      "Episode 1600\tAverage Score: 0.19\n",
      "Episode 1700\tAverage Score: 0.16\n",
      "Episode 1800\tAverage Score: 0.17\n",
      "Episode 1900\tAverage Score: 0.18\n",
      "Episode 2000\tAverage Score: 0.22\n",
      "Episode 2100\tAverage Score: 0.24\n",
      "Episode 2200\tAverage Score: 0.13\n",
      "Episode 2300\tAverage Score: 0.27\n",
      "Episode 2400\tAverage Score: 0.19\n",
      "Episode 2500\tAverage Score: 0.14\n",
      "Episode 2600\tAverage Score: 0.17\n",
      "Episode 2700\tAverage Score: 0.16\n",
      "Episode 2800\tAverage Score: 0.18\n",
      "Episode 2900\tAverage Score: 0.13\n",
      "Episode 3000\tAverage Score: 0.18\n",
      "Episode 3100\tAverage Score: 0.16\n",
      "Episode 3200\tAverage Score: 0.16\n",
      "Episode 3300\tAverage Score: 0.17\n",
      "Episode 3400\tAverage Score: 0.15\n",
      "Episode 3500\tAverage Score: 0.12\n",
      "Episode 3600\tAverage Score: 0.11\n",
      "Episode 3700\tAverage Score: 0.07\n",
      "Episode 3800\tAverage Score: 0.07\n",
      "Episode 3900\tAverage Score: 0.14\n",
      "Episode 4000\tAverage Score: 0.19\n",
      "Episode 4100\tAverage Score: 0.20\n",
      "Episode 4200\tAverage Score: 0.47\n",
      "Episode 4300\tAverage Score: 0.18\n",
      "Episode 4400\tAverage Score: 0.18\n",
      "Episode 4500\tAverage Score: 0.16\n",
      "Episode 4600\tAverage Score: 0.20\n",
      "Episode 4700\tAverage Score: 0.22\n",
      "Episode 4800\tAverage Score: 0.20\n",
      "Episode 4900\tAverage Score: 0.14\n",
      "Episode 5000\tAverage Score: 0.29\n"
     ]
    }
   ],
   "source": [
    "#Training\n",
    "scores = maddpg()"
   ]
  },
  {
   "cell_type": "code",
   "execution_count": 8,
   "metadata": {},
   "outputs": [
    {
     "data": {
      "image/png": "[encoded data removed]",
      "text/plain": [
       "<Figure size 432x288 with 1 Axes>"
      ]
     },
     "metadata": {
      "needs_background": "light"
     },
     "output_type": "display_data"
    }
   ],
   "source": [
    "#Plotting the score vs count of episodes.\n",
    "fig = plt.figure()\n",
    "ax = fig.add_subplot(111)\n",
    "plt.plot(np.arange(1, len(scores)+1), scores)\n",
    "plt.ylabel('Score')\n",
    "plt.xlabel('Episode #')\n",
    "plt.show()\n"
   ]
  },
  {
   "cell_type": "code",
   "execution_count": 9,
   "metadata": {},
   "outputs": [],
   "source": [
    "#close\n",
    "env.close()\n"
   ]
  }
 ],
 "metadata": {
  "kernelspec": {
   "display_name": "drlnd",
   "language": "python",
   "name": "drlnd"
  },
  "language_info": {
   "codemirror_mode": {
    "name": "ipython",
    "version": 3
   },
   "file_extension": ".py",
   "mimetype": "text/x-python",
   "name": "python",
   "nbconvert_exporter": "python",
   "pygments_lexer": "ipython3",
   "version": "3.6.8"
  }
 },
 "nbformat": 4,
 "nbformat_minor": 2
}
